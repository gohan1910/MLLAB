{
 "cells": [
  {
   "cell_type": "code",
   "execution_count": 1,
   "metadata": {},
   "outputs": [],
   "source": [
    "import pandas as pd\n",
    "import numpy as np\n",
    "import matplotlib.pyplot as plt"
   ]
  },
  {
   "cell_type": "code",
   "execution_count": 2,
   "metadata": {},
   "outputs": [],
   "source": [
    "data = pd.read_csv('Food-Truck(For Linear Regression Program).csv')\n",
    "data2 = pd.read_csv('Food-Truck(For Linear Regression Program).csv')"
   ]
  },
  {
   "cell_type": "code",
   "execution_count": 3,
   "metadata": {},
   "outputs": [
    {
     "data": {
      "text/html": [
       "<div>\n",
       "<style scoped>\n",
       "    .dataframe tbody tr th:only-of-type {\n",
       "        vertical-align: middle;\n",
       "    }\n",
       "\n",
       "    .dataframe tbody tr th {\n",
       "        vertical-align: top;\n",
       "    }\n",
       "\n",
       "    .dataframe thead th {\n",
       "        text-align: right;\n",
       "    }\n",
       "</style>\n",
       "<table border=\"1\" class=\"dataframe\">\n",
       "  <thead>\n",
       "    <tr style=\"text-align: right;\">\n",
       "      <th></th>\n",
       "      <th>6.1101</th>\n",
       "      <th>17.592</th>\n",
       "    </tr>\n",
       "  </thead>\n",
       "  <tbody>\n",
       "    <tr>\n",
       "      <td>0</td>\n",
       "      <td>5.5277</td>\n",
       "      <td>9.13020</td>\n",
       "    </tr>\n",
       "    <tr>\n",
       "      <td>1</td>\n",
       "      <td>8.5186</td>\n",
       "      <td>13.66200</td>\n",
       "    </tr>\n",
       "    <tr>\n",
       "      <td>2</td>\n",
       "      <td>7.0032</td>\n",
       "      <td>11.85400</td>\n",
       "    </tr>\n",
       "    <tr>\n",
       "      <td>3</td>\n",
       "      <td>5.8598</td>\n",
       "      <td>6.82330</td>\n",
       "    </tr>\n",
       "    <tr>\n",
       "      <td>4</td>\n",
       "      <td>8.3829</td>\n",
       "      <td>11.88600</td>\n",
       "    </tr>\n",
       "    <tr>\n",
       "      <td>...</td>\n",
       "      <td>...</td>\n",
       "      <td>...</td>\n",
       "    </tr>\n",
       "    <tr>\n",
       "      <td>91</td>\n",
       "      <td>5.8707</td>\n",
       "      <td>7.20290</td>\n",
       "    </tr>\n",
       "    <tr>\n",
       "      <td>92</td>\n",
       "      <td>5.3054</td>\n",
       "      <td>1.98690</td>\n",
       "    </tr>\n",
       "    <tr>\n",
       "      <td>93</td>\n",
       "      <td>8.2934</td>\n",
       "      <td>0.14454</td>\n",
       "    </tr>\n",
       "    <tr>\n",
       "      <td>94</td>\n",
       "      <td>13.3940</td>\n",
       "      <td>9.05510</td>\n",
       "    </tr>\n",
       "    <tr>\n",
       "      <td>95</td>\n",
       "      <td>5.4369</td>\n",
       "      <td>0.61705</td>\n",
       "    </tr>\n",
       "  </tbody>\n",
       "</table>\n",
       "<p>96 rows × 2 columns</p>\n",
       "</div>"
      ],
      "text/plain": [
       "     6.1101    17.592\n",
       "0    5.5277   9.13020\n",
       "1    8.5186  13.66200\n",
       "2    7.0032  11.85400\n",
       "3    5.8598   6.82330\n",
       "4    8.3829  11.88600\n",
       "..      ...       ...\n",
       "91   5.8707   7.20290\n",
       "92   5.3054   1.98690\n",
       "93   8.2934   0.14454\n",
       "94  13.3940   9.05510\n",
       "95   5.4369   0.61705\n",
       "\n",
       "[96 rows x 2 columns]"
      ]
     },
     "execution_count": 3,
     "metadata": {},
     "output_type": "execute_result"
    }
   ],
   "source": [
    "data"
   ]
  },
  {
   "cell_type": "code",
   "execution_count": 16,
   "metadata": {},
   "outputs": [
    {
     "data": {
      "image/png": "[encoded data removed]",
      "text/plain": [
       "<Figure size 432x288 with 1 Axes>"
      ]
     },
     "metadata": {
      "needs_background": "light"
     },
     "output_type": "display_data"
    }
   ],
   "source": [
    "data.plot(x='6.1101',y='17.592',style='+')\n",
    "plt.show()"
   ]
  },
  {
   "cell_type": "code",
   "execution_count": 17,
   "metadata": {},
   "outputs": [],
   "source": [
    "xmean = data['6.1101'].mean()\n",
    "ymean = data['17.592'].mean()"
   ]
  },
  {
   "cell_type": "code",
   "execution_count": 18,
   "metadata": {},
   "outputs": [
    {
     "data": {
      "text/plain": [
       "8.18115104166667"
      ]
     },
     "execution_count": 18,
     "metadata": {},
     "output_type": "execute_result"
    }
   ],
   "source": [
    "xmean"
   ]
  },
  {
   "cell_type": "code",
   "execution_count": 19,
   "metadata": {},
   "outputs": [
    {
     "data": {
      "text/plain": [
       "5.716709374999997"
      ]
     },
     "execution_count": 19,
     "metadata": {},
     "output_type": "execute_result"
    }
   ],
   "source": [
    "ymean"
   ]
  },
  {
   "cell_type": "code",
   "execution_count": 20,
   "metadata": {},
   "outputs": [],
   "source": [
    "data['x'] = data['6.1101']-xmean"
   ]
  },
  {
   "cell_type": "code",
   "execution_count": 21,
   "metadata": {},
   "outputs": [
    {
     "data": {
      "text/html": [
       "<div>\n",
       "<style scoped>\n",
       "    .dataframe tbody tr th:only-of-type {\n",
       "        vertical-align: middle;\n",
       "    }\n",
       "\n",
       "    .dataframe tbody tr th {\n",
       "        vertical-align: top;\n",
       "    }\n",
       "\n",
       "    .dataframe thead th {\n",
       "        text-align: right;\n",
       "    }\n",
       "</style>\n",
       "<table border=\"1\" class=\"dataframe\">\n",
       "  <thead>\n",
       "    <tr style=\"text-align: right;\">\n",
       "      <th></th>\n",
       "      <th>6.1101</th>\n",
       "      <th>17.592</th>\n",
       "      <th>x</th>\n",
       "      <th>y</th>\n",
       "      <th>A2</th>\n",
       "      <th>AB</th>\n",
       "      <th>B2</th>\n",
       "    </tr>\n",
       "  </thead>\n",
       "  <tbody>\n",
       "    <tr>\n",
       "      <td>0</td>\n",
       "      <td>5.5277</td>\n",
       "      <td>9.13020</td>\n",
       "      <td>-2.653451</td>\n",
       "      <td>3.413491</td>\n",
       "      <td>7.040802</td>\n",
       "      <td>-9.057530</td>\n",
       "      <td>11.651918</td>\n",
       "    </tr>\n",
       "    <tr>\n",
       "      <td>1</td>\n",
       "      <td>8.5186</td>\n",
       "      <td>13.66200</td>\n",
       "      <td>0.337449</td>\n",
       "      <td>7.945291</td>\n",
       "      <td>0.113872</td>\n",
       "      <td>2.681130</td>\n",
       "      <td>63.127643</td>\n",
       "    </tr>\n",
       "    <tr>\n",
       "      <td>2</td>\n",
       "      <td>7.0032</td>\n",
       "      <td>11.85400</td>\n",
       "      <td>-1.177951</td>\n",
       "      <td>6.137291</td>\n",
       "      <td>1.387569</td>\n",
       "      <td>-7.229428</td>\n",
       "      <td>37.666336</td>\n",
       "    </tr>\n",
       "    <tr>\n",
       "      <td>3</td>\n",
       "      <td>5.8598</td>\n",
       "      <td>6.82330</td>\n",
       "      <td>-2.321351</td>\n",
       "      <td>1.106591</td>\n",
       "      <td>5.388671</td>\n",
       "      <td>-2.568785</td>\n",
       "      <td>1.224543</td>\n",
       "    </tr>\n",
       "    <tr>\n",
       "      <td>4</td>\n",
       "      <td>8.3829</td>\n",
       "      <td>11.88600</td>\n",
       "      <td>0.201749</td>\n",
       "      <td>6.169291</td>\n",
       "      <td>0.040703</td>\n",
       "      <td>1.244648</td>\n",
       "      <td>38.060147</td>\n",
       "    </tr>\n",
       "    <tr>\n",
       "      <td>...</td>\n",
       "      <td>...</td>\n",
       "      <td>...</td>\n",
       "      <td>...</td>\n",
       "      <td>...</td>\n",
       "      <td>...</td>\n",
       "      <td>...</td>\n",
       "      <td>...</td>\n",
       "    </tr>\n",
       "    <tr>\n",
       "      <td>91</td>\n",
       "      <td>5.8707</td>\n",
       "      <td>7.20290</td>\n",
       "      <td>-2.310451</td>\n",
       "      <td>1.486191</td>\n",
       "      <td>5.338184</td>\n",
       "      <td>-3.433771</td>\n",
       "      <td>2.208763</td>\n",
       "    </tr>\n",
       "    <tr>\n",
       "      <td>92</td>\n",
       "      <td>5.3054</td>\n",
       "      <td>1.98690</td>\n",
       "      <td>-2.875751</td>\n",
       "      <td>-3.729809</td>\n",
       "      <td>8.269944</td>\n",
       "      <td>10.726003</td>\n",
       "      <td>13.911478</td>\n",
       "    </tr>\n",
       "    <tr>\n",
       "      <td>93</td>\n",
       "      <td>8.2934</td>\n",
       "      <td>0.14454</td>\n",
       "      <td>0.112249</td>\n",
       "      <td>-5.572169</td>\n",
       "      <td>0.012600</td>\n",
       "      <td>-0.625470</td>\n",
       "      <td>31.049072</td>\n",
       "    </tr>\n",
       "    <tr>\n",
       "      <td>94</td>\n",
       "      <td>13.3940</td>\n",
       "      <td>9.05510</td>\n",
       "      <td>5.212849</td>\n",
       "      <td>3.338391</td>\n",
       "      <td>27.173794</td>\n",
       "      <td>17.402526</td>\n",
       "      <td>11.144852</td>\n",
       "    </tr>\n",
       "    <tr>\n",
       "      <td>95</td>\n",
       "      <td>5.4369</td>\n",
       "      <td>0.61705</td>\n",
       "      <td>-2.744251</td>\n",
       "      <td>-5.099659</td>\n",
       "      <td>7.530914</td>\n",
       "      <td>13.994746</td>\n",
       "      <td>26.006526</td>\n",
       "    </tr>\n",
       "  </tbody>\n",
       "</table>\n",
       "<p>96 rows × 7 columns</p>\n",
       "</div>"
      ],
      "text/plain": [
       "     6.1101    17.592         x         y         A2         AB         B2\n",
       "0    5.5277   9.13020 -2.653451  3.413491   7.040802  -9.057530  11.651918\n",
       "1    8.5186  13.66200  0.337449  7.945291   0.113872   2.681130  63.127643\n",
       "2    7.0032  11.85400 -1.177951  6.137291   1.387569  -7.229428  37.666336\n",
       "3    5.8598   6.82330 -2.321351  1.106591   5.388671  -2.568785   1.224543\n",
       "4    8.3829  11.88600  0.201749  6.169291   0.040703   1.244648  38.060147\n",
       "..      ...       ...       ...       ...        ...        ...        ...\n",
       "91   5.8707   7.20290 -2.310451  1.486191   5.338184  -3.433771   2.208763\n",
       "92   5.3054   1.98690 -2.875751 -3.729809   8.269944  10.726003  13.911478\n",
       "93   8.2934   0.14454  0.112249 -5.572169   0.012600  -0.625470  31.049072\n",
       "94  13.3940   9.05510  5.212849  3.338391  27.173794  17.402526  11.144852\n",
       "95   5.4369   0.61705 -2.744251 -5.099659   7.530914  13.994746  26.006526\n",
       "\n",
       "[96 rows x 7 columns]"
      ]
     },
     "execution_count": 21,
     "metadata": {},
     "output_type": "execute_result"
    }
   ],
   "source": [
    "data"
   ]
  },
  {
   "cell_type": "code",
   "execution_count": 22,
   "metadata": {},
   "outputs": [
    {
     "data": {
      "text/html": [
       "<div>\n",
       "<style scoped>\n",
       "    .dataframe tbody tr th:only-of-type {\n",
       "        vertical-align: middle;\n",
       "    }\n",
       "\n",
       "    .dataframe tbody tr th {\n",
       "        vertical-align: top;\n",
       "    }\n",
       "\n",
       "    .dataframe thead th {\n",
       "        text-align: right;\n",
       "    }\n",
       "</style>\n",
       "<table border=\"1\" class=\"dataframe\">\n",
       "  <thead>\n",
       "    <tr style=\"text-align: right;\">\n",
       "      <th></th>\n",
       "      <th>6.1101</th>\n",
       "      <th>17.592</th>\n",
       "      <th>x</th>\n",
       "      <th>y</th>\n",
       "      <th>A2</th>\n",
       "      <th>AB</th>\n",
       "      <th>B2</th>\n",
       "    </tr>\n",
       "  </thead>\n",
       "  <tbody>\n",
       "    <tr>\n",
       "      <td>0</td>\n",
       "      <td>5.5277</td>\n",
       "      <td>9.13020</td>\n",
       "      <td>-2.653451</td>\n",
       "      <td>3.413491</td>\n",
       "      <td>7.040802</td>\n",
       "      <td>-9.057530</td>\n",
       "      <td>11.651918</td>\n",
       "    </tr>\n",
       "    <tr>\n",
       "      <td>1</td>\n",
       "      <td>8.5186</td>\n",
       "      <td>13.66200</td>\n",
       "      <td>0.337449</td>\n",
       "      <td>7.945291</td>\n",
       "      <td>0.113872</td>\n",
       "      <td>2.681130</td>\n",
       "      <td>63.127643</td>\n",
       "    </tr>\n",
       "    <tr>\n",
       "      <td>2</td>\n",
       "      <td>7.0032</td>\n",
       "      <td>11.85400</td>\n",
       "      <td>-1.177951</td>\n",
       "      <td>6.137291</td>\n",
       "      <td>1.387569</td>\n",
       "      <td>-7.229428</td>\n",
       "      <td>37.666336</td>\n",
       "    </tr>\n",
       "    <tr>\n",
       "      <td>3</td>\n",
       "      <td>5.8598</td>\n",
       "      <td>6.82330</td>\n",
       "      <td>-2.321351</td>\n",
       "      <td>1.106591</td>\n",
       "      <td>5.388671</td>\n",
       "      <td>-2.568785</td>\n",
       "      <td>1.224543</td>\n",
       "    </tr>\n",
       "    <tr>\n",
       "      <td>4</td>\n",
       "      <td>8.3829</td>\n",
       "      <td>11.88600</td>\n",
       "      <td>0.201749</td>\n",
       "      <td>6.169291</td>\n",
       "      <td>0.040703</td>\n",
       "      <td>1.244648</td>\n",
       "      <td>38.060147</td>\n",
       "    </tr>\n",
       "    <tr>\n",
       "      <td>...</td>\n",
       "      <td>...</td>\n",
       "      <td>...</td>\n",
       "      <td>...</td>\n",
       "      <td>...</td>\n",
       "      <td>...</td>\n",
       "      <td>...</td>\n",
       "      <td>...</td>\n",
       "    </tr>\n",
       "    <tr>\n",
       "      <td>91</td>\n",
       "      <td>5.8707</td>\n",
       "      <td>7.20290</td>\n",
       "      <td>-2.310451</td>\n",
       "      <td>1.486191</td>\n",
       "      <td>5.338184</td>\n",
       "      <td>-3.433771</td>\n",
       "      <td>2.208763</td>\n",
       "    </tr>\n",
       "    <tr>\n",
       "      <td>92</td>\n",
       "      <td>5.3054</td>\n",
       "      <td>1.98690</td>\n",
       "      <td>-2.875751</td>\n",
       "      <td>-3.729809</td>\n",
       "      <td>8.269944</td>\n",
       "      <td>10.726003</td>\n",
       "      <td>13.911478</td>\n",
       "    </tr>\n",
       "    <tr>\n",
       "      <td>93</td>\n",
       "      <td>8.2934</td>\n",
       "      <td>0.14454</td>\n",
       "      <td>0.112249</td>\n",
       "      <td>-5.572169</td>\n",
       "      <td>0.012600</td>\n",
       "      <td>-0.625470</td>\n",
       "      <td>31.049072</td>\n",
       "    </tr>\n",
       "    <tr>\n",
       "      <td>94</td>\n",
       "      <td>13.3940</td>\n",
       "      <td>9.05510</td>\n",
       "      <td>5.212849</td>\n",
       "      <td>3.338391</td>\n",
       "      <td>27.173794</td>\n",
       "      <td>17.402526</td>\n",
       "      <td>11.144852</td>\n",
       "    </tr>\n",
       "    <tr>\n",
       "      <td>95</td>\n",
       "      <td>5.4369</td>\n",
       "      <td>0.61705</td>\n",
       "      <td>-2.744251</td>\n",
       "      <td>-5.099659</td>\n",
       "      <td>7.530914</td>\n",
       "      <td>13.994746</td>\n",
       "      <td>26.006526</td>\n",
       "    </tr>\n",
       "  </tbody>\n",
       "</table>\n",
       "<p>96 rows × 7 columns</p>\n",
       "</div>"
      ],
      "text/plain": [
       "     6.1101    17.592         x         y         A2         AB         B2\n",
       "0    5.5277   9.13020 -2.653451  3.413491   7.040802  -9.057530  11.651918\n",
       "1    8.5186  13.66200  0.337449  7.945291   0.113872   2.681130  63.127643\n",
       "2    7.0032  11.85400 -1.177951  6.137291   1.387569  -7.229428  37.666336\n",
       "3    5.8598   6.82330 -2.321351  1.106591   5.388671  -2.568785   1.224543\n",
       "4    8.3829  11.88600  0.201749  6.169291   0.040703   1.244648  38.060147\n",
       "..      ...       ...       ...       ...        ...        ...        ...\n",
       "91   5.8707   7.20290 -2.310451  1.486191   5.338184  -3.433771   2.208763\n",
       "92   5.3054   1.98690 -2.875751 -3.729809   8.269944  10.726003  13.911478\n",
       "93   8.2934   0.14454  0.112249 -5.572169   0.012600  -0.625470  31.049072\n",
       "94  13.3940   9.05510  5.212849  3.338391  27.173794  17.402526  11.144852\n",
       "95   5.4369   0.61705 -2.744251 -5.099659   7.530914  13.994746  26.006526\n",
       "\n",
       "[96 rows x 7 columns]"
      ]
     },
     "execution_count": 22,
     "metadata": {},
     "output_type": "execute_result"
    }
   ],
   "source": [
    "data['y'] = data['17.592']-ymean\n",
    "data"
   ]
  },
  {
   "cell_type": "code",
   "execution_count": 23,
   "metadata": {},
   "outputs": [
    {
     "data": {
      "text/html": [
       "<div>\n",
       "<style scoped>\n",
       "    .dataframe tbody tr th:only-of-type {\n",
       "        vertical-align: middle;\n",
       "    }\n",
       "\n",
       "    .dataframe tbody tr th {\n",
       "        vertical-align: top;\n",
       "    }\n",
       "\n",
       "    .dataframe thead th {\n",
       "        text-align: right;\n",
       "    }\n",
       "</style>\n",
       "<table border=\"1\" class=\"dataframe\">\n",
       "  <thead>\n",
       "    <tr style=\"text-align: right;\">\n",
       "      <th></th>\n",
       "      <th>6.1101</th>\n",
       "      <th>17.592</th>\n",
       "      <th>x</th>\n",
       "      <th>y</th>\n",
       "      <th>A2</th>\n",
       "      <th>AB</th>\n",
       "      <th>B2</th>\n",
       "    </tr>\n",
       "  </thead>\n",
       "  <tbody>\n",
       "    <tr>\n",
       "      <td>0</td>\n",
       "      <td>5.5277</td>\n",
       "      <td>9.13020</td>\n",
       "      <td>-2.653451</td>\n",
       "      <td>3.413491</td>\n",
       "      <td>7.040802</td>\n",
       "      <td>-9.057530</td>\n",
       "      <td>11.651918</td>\n",
       "    </tr>\n",
       "    <tr>\n",
       "      <td>1</td>\n",
       "      <td>8.5186</td>\n",
       "      <td>13.66200</td>\n",
       "      <td>0.337449</td>\n",
       "      <td>7.945291</td>\n",
       "      <td>0.113872</td>\n",
       "      <td>2.681130</td>\n",
       "      <td>63.127643</td>\n",
       "    </tr>\n",
       "    <tr>\n",
       "      <td>2</td>\n",
       "      <td>7.0032</td>\n",
       "      <td>11.85400</td>\n",
       "      <td>-1.177951</td>\n",
       "      <td>6.137291</td>\n",
       "      <td>1.387569</td>\n",
       "      <td>-7.229428</td>\n",
       "      <td>37.666336</td>\n",
       "    </tr>\n",
       "    <tr>\n",
       "      <td>3</td>\n",
       "      <td>5.8598</td>\n",
       "      <td>6.82330</td>\n",
       "      <td>-2.321351</td>\n",
       "      <td>1.106591</td>\n",
       "      <td>5.388671</td>\n",
       "      <td>-2.568785</td>\n",
       "      <td>1.224543</td>\n",
       "    </tr>\n",
       "    <tr>\n",
       "      <td>4</td>\n",
       "      <td>8.3829</td>\n",
       "      <td>11.88600</td>\n",
       "      <td>0.201749</td>\n",
       "      <td>6.169291</td>\n",
       "      <td>0.040703</td>\n",
       "      <td>1.244648</td>\n",
       "      <td>38.060147</td>\n",
       "    </tr>\n",
       "    <tr>\n",
       "      <td>...</td>\n",
       "      <td>...</td>\n",
       "      <td>...</td>\n",
       "      <td>...</td>\n",
       "      <td>...</td>\n",
       "      <td>...</td>\n",
       "      <td>...</td>\n",
       "      <td>...</td>\n",
       "    </tr>\n",
       "    <tr>\n",
       "      <td>91</td>\n",
       "      <td>5.8707</td>\n",
       "      <td>7.20290</td>\n",
       "      <td>-2.310451</td>\n",
       "      <td>1.486191</td>\n",
       "      <td>5.338184</td>\n",
       "      <td>-3.433771</td>\n",
       "      <td>2.208763</td>\n",
       "    </tr>\n",
       "    <tr>\n",
       "      <td>92</td>\n",
       "      <td>5.3054</td>\n",
       "      <td>1.98690</td>\n",
       "      <td>-2.875751</td>\n",
       "      <td>-3.729809</td>\n",
       "      <td>8.269944</td>\n",
       "      <td>10.726003</td>\n",
       "      <td>13.911478</td>\n",
       "    </tr>\n",
       "    <tr>\n",
       "      <td>93</td>\n",
       "      <td>8.2934</td>\n",
       "      <td>0.14454</td>\n",
       "      <td>0.112249</td>\n",
       "      <td>-5.572169</td>\n",
       "      <td>0.012600</td>\n",
       "      <td>-0.625470</td>\n",
       "      <td>31.049072</td>\n",
       "    </tr>\n",
       "    <tr>\n",
       "      <td>94</td>\n",
       "      <td>13.3940</td>\n",
       "      <td>9.05510</td>\n",
       "      <td>5.212849</td>\n",
       "      <td>3.338391</td>\n",
       "      <td>27.173794</td>\n",
       "      <td>17.402526</td>\n",
       "      <td>11.144852</td>\n",
       "    </tr>\n",
       "    <tr>\n",
       "      <td>95</td>\n",
       "      <td>5.4369</td>\n",
       "      <td>0.61705</td>\n",
       "      <td>-2.744251</td>\n",
       "      <td>-5.099659</td>\n",
       "      <td>7.530914</td>\n",
       "      <td>13.994746</td>\n",
       "      <td>26.006526</td>\n",
       "    </tr>\n",
       "  </tbody>\n",
       "</table>\n",
       "<p>96 rows × 7 columns</p>\n",
       "</div>"
      ],
      "text/plain": [
       "     6.1101    17.592         x         y         A2         AB         B2\n",
       "0    5.5277   9.13020 -2.653451  3.413491   7.040802  -9.057530  11.651918\n",
       "1    8.5186  13.66200  0.337449  7.945291   0.113872   2.681130  63.127643\n",
       "2    7.0032  11.85400 -1.177951  6.137291   1.387569  -7.229428  37.666336\n",
       "3    5.8598   6.82330 -2.321351  1.106591   5.388671  -2.568785   1.224543\n",
       "4    8.3829  11.88600  0.201749  6.169291   0.040703   1.244648  38.060147\n",
       "..      ...       ...       ...       ...        ...        ...        ...\n",
       "91   5.8707   7.20290 -2.310451  1.486191   5.338184  -3.433771   2.208763\n",
       "92   5.3054   1.98690 -2.875751 -3.729809   8.269944  10.726003  13.911478\n",
       "93   8.2934   0.14454  0.112249 -5.572169   0.012600  -0.625470  31.049072\n",
       "94  13.3940   9.05510  5.212849  3.338391  27.173794  17.402526  11.144852\n",
       "95   5.4369   0.61705 -2.744251 -5.099659   7.530914  13.994746  26.006526\n",
       "\n",
       "[96 rows x 7 columns]"
      ]
     },
     "execution_count": 23,
     "metadata": {},
     "output_type": "execute_result"
    }
   ],
   "source": [
    "data['A2'] = (data['x'])**2\n",
    "data"
   ]
  },
  {
   "cell_type": "code",
   "execution_count": 24,
   "metadata": {},
   "outputs": [
    {
     "data": {
      "text/html": [
       "<div>\n",
       "<style scoped>\n",
       "    .dataframe tbody tr th:only-of-type {\n",
       "        vertical-align: middle;\n",
       "    }\n",
       "\n",
       "    .dataframe tbody tr th {\n",
       "        vertical-align: top;\n",
       "    }\n",
       "\n",
       "    .dataframe thead th {\n",
       "        text-align: right;\n",
       "    }\n",
       "</style>\n",
       "<table border=\"1\" class=\"dataframe\">\n",
       "  <thead>\n",
       "    <tr style=\"text-align: right;\">\n",
       "      <th></th>\n",
       "      <th>6.1101</th>\n",
       "      <th>17.592</th>\n",
       "      <th>x</th>\n",
       "      <th>y</th>\n",
       "      <th>A2</th>\n",
       "      <th>AB</th>\n",
       "      <th>B2</th>\n",
       "    </tr>\n",
       "  </thead>\n",
       "  <tbody>\n",
       "    <tr>\n",
       "      <td>0</td>\n",
       "      <td>5.5277</td>\n",
       "      <td>9.13020</td>\n",
       "      <td>-2.653451</td>\n",
       "      <td>3.413491</td>\n",
       "      <td>7.040802</td>\n",
       "      <td>-9.057530</td>\n",
       "      <td>11.651918</td>\n",
       "    </tr>\n",
       "    <tr>\n",
       "      <td>1</td>\n",
       "      <td>8.5186</td>\n",
       "      <td>13.66200</td>\n",
       "      <td>0.337449</td>\n",
       "      <td>7.945291</td>\n",
       "      <td>0.113872</td>\n",
       "      <td>2.681130</td>\n",
       "      <td>63.127643</td>\n",
       "    </tr>\n",
       "    <tr>\n",
       "      <td>2</td>\n",
       "      <td>7.0032</td>\n",
       "      <td>11.85400</td>\n",
       "      <td>-1.177951</td>\n",
       "      <td>6.137291</td>\n",
       "      <td>1.387569</td>\n",
       "      <td>-7.229428</td>\n",
       "      <td>37.666336</td>\n",
       "    </tr>\n",
       "    <tr>\n",
       "      <td>3</td>\n",
       "      <td>5.8598</td>\n",
       "      <td>6.82330</td>\n",
       "      <td>-2.321351</td>\n",
       "      <td>1.106591</td>\n",
       "      <td>5.388671</td>\n",
       "      <td>-2.568785</td>\n",
       "      <td>1.224543</td>\n",
       "    </tr>\n",
       "    <tr>\n",
       "      <td>4</td>\n",
       "      <td>8.3829</td>\n",
       "      <td>11.88600</td>\n",
       "      <td>0.201749</td>\n",
       "      <td>6.169291</td>\n",
       "      <td>0.040703</td>\n",
       "      <td>1.244648</td>\n",
       "      <td>38.060147</td>\n",
       "    </tr>\n",
       "    <tr>\n",
       "      <td>...</td>\n",
       "      <td>...</td>\n",
       "      <td>...</td>\n",
       "      <td>...</td>\n",
       "      <td>...</td>\n",
       "      <td>...</td>\n",
       "      <td>...</td>\n",
       "      <td>...</td>\n",
       "    </tr>\n",
       "    <tr>\n",
       "      <td>91</td>\n",
       "      <td>5.8707</td>\n",
       "      <td>7.20290</td>\n",
       "      <td>-2.310451</td>\n",
       "      <td>1.486191</td>\n",
       "      <td>5.338184</td>\n",
       "      <td>-3.433771</td>\n",
       "      <td>2.208763</td>\n",
       "    </tr>\n",
       "    <tr>\n",
       "      <td>92</td>\n",
       "      <td>5.3054</td>\n",
       "      <td>1.98690</td>\n",
       "      <td>-2.875751</td>\n",
       "      <td>-3.729809</td>\n",
       "      <td>8.269944</td>\n",
       "      <td>10.726003</td>\n",
       "      <td>13.911478</td>\n",
       "    </tr>\n",
       "    <tr>\n",
       "      <td>93</td>\n",
       "      <td>8.2934</td>\n",
       "      <td>0.14454</td>\n",
       "      <td>0.112249</td>\n",
       "      <td>-5.572169</td>\n",
       "      <td>0.012600</td>\n",
       "      <td>-0.625470</td>\n",
       "      <td>31.049072</td>\n",
       "    </tr>\n",
       "    <tr>\n",
       "      <td>94</td>\n",
       "      <td>13.3940</td>\n",
       "      <td>9.05510</td>\n",
       "      <td>5.212849</td>\n",
       "      <td>3.338391</td>\n",
       "      <td>27.173794</td>\n",
       "      <td>17.402526</td>\n",
       "      <td>11.144852</td>\n",
       "    </tr>\n",
       "    <tr>\n",
       "      <td>95</td>\n",
       "      <td>5.4369</td>\n",
       "      <td>0.61705</td>\n",
       "      <td>-2.744251</td>\n",
       "      <td>-5.099659</td>\n",
       "      <td>7.530914</td>\n",
       "      <td>13.994746</td>\n",
       "      <td>26.006526</td>\n",
       "    </tr>\n",
       "  </tbody>\n",
       "</table>\n",
       "<p>96 rows × 7 columns</p>\n",
       "</div>"
      ],
      "text/plain": [
       "     6.1101    17.592         x         y         A2         AB         B2\n",
       "0    5.5277   9.13020 -2.653451  3.413491   7.040802  -9.057530  11.651918\n",
       "1    8.5186  13.66200  0.337449  7.945291   0.113872   2.681130  63.127643\n",
       "2    7.0032  11.85400 -1.177951  6.137291   1.387569  -7.229428  37.666336\n",
       "3    5.8598   6.82330 -2.321351  1.106591   5.388671  -2.568785   1.224543\n",
       "4    8.3829  11.88600  0.201749  6.169291   0.040703   1.244648  38.060147\n",
       "..      ...       ...       ...       ...        ...        ...        ...\n",
       "91   5.8707   7.20290 -2.310451  1.486191   5.338184  -3.433771   2.208763\n",
       "92   5.3054   1.98690 -2.875751 -3.729809   8.269944  10.726003  13.911478\n",
       "93   8.2934   0.14454  0.112249 -5.572169   0.012600  -0.625470  31.049072\n",
       "94  13.3940   9.05510  5.212849  3.338391  27.173794  17.402526  11.144852\n",
       "95   5.4369   0.61705 -2.744251 -5.099659   7.530914  13.994746  26.006526\n",
       "\n",
       "[96 rows x 7 columns]"
      ]
     },
     "execution_count": 24,
     "metadata": {},
     "output_type": "execute_result"
    }
   ],
   "source": [
    "data['AB']=data['x']*data['y']\n",
    "data"
   ]
  },
  {
   "cell_type": "code",
   "execution_count": 25,
   "metadata": {},
   "outputs": [
    {
     "data": {
      "text/html": [
       "<div>\n",
       "<style scoped>\n",
       "    .dataframe tbody tr th:only-of-type {\n",
       "        vertical-align: middle;\n",
       "    }\n",
       "\n",
       "    .dataframe tbody tr th {\n",
       "        vertical-align: top;\n",
       "    }\n",
       "\n",
       "    .dataframe thead th {\n",
       "        text-align: right;\n",
       "    }\n",
       "</style>\n",
       "<table border=\"1\" class=\"dataframe\">\n",
       "  <thead>\n",
       "    <tr style=\"text-align: right;\">\n",
       "      <th></th>\n",
       "      <th>6.1101</th>\n",
       "      <th>17.592</th>\n",
       "      <th>x</th>\n",
       "      <th>y</th>\n",
       "      <th>A2</th>\n",
       "      <th>AB</th>\n",
       "      <th>B2</th>\n",
       "    </tr>\n",
       "  </thead>\n",
       "  <tbody>\n",
       "    <tr>\n",
       "      <td>0</td>\n",
       "      <td>5.5277</td>\n",
       "      <td>9.13020</td>\n",
       "      <td>-2.653451</td>\n",
       "      <td>3.413491</td>\n",
       "      <td>7.040802</td>\n",
       "      <td>-9.057530</td>\n",
       "      <td>11.651918</td>\n",
       "    </tr>\n",
       "    <tr>\n",
       "      <td>1</td>\n",
       "      <td>8.5186</td>\n",
       "      <td>13.66200</td>\n",
       "      <td>0.337449</td>\n",
       "      <td>7.945291</td>\n",
       "      <td>0.113872</td>\n",
       "      <td>2.681130</td>\n",
       "      <td>63.127643</td>\n",
       "    </tr>\n",
       "    <tr>\n",
       "      <td>2</td>\n",
       "      <td>7.0032</td>\n",
       "      <td>11.85400</td>\n",
       "      <td>-1.177951</td>\n",
       "      <td>6.137291</td>\n",
       "      <td>1.387569</td>\n",
       "      <td>-7.229428</td>\n",
       "      <td>37.666336</td>\n",
       "    </tr>\n",
       "    <tr>\n",
       "      <td>3</td>\n",
       "      <td>5.8598</td>\n",
       "      <td>6.82330</td>\n",
       "      <td>-2.321351</td>\n",
       "      <td>1.106591</td>\n",
       "      <td>5.388671</td>\n",
       "      <td>-2.568785</td>\n",
       "      <td>1.224543</td>\n",
       "    </tr>\n",
       "    <tr>\n",
       "      <td>4</td>\n",
       "      <td>8.3829</td>\n",
       "      <td>11.88600</td>\n",
       "      <td>0.201749</td>\n",
       "      <td>6.169291</td>\n",
       "      <td>0.040703</td>\n",
       "      <td>1.244648</td>\n",
       "      <td>38.060147</td>\n",
       "    </tr>\n",
       "    <tr>\n",
       "      <td>...</td>\n",
       "      <td>...</td>\n",
       "      <td>...</td>\n",
       "      <td>...</td>\n",
       "      <td>...</td>\n",
       "      <td>...</td>\n",
       "      <td>...</td>\n",
       "      <td>...</td>\n",
       "    </tr>\n",
       "    <tr>\n",
       "      <td>91</td>\n",
       "      <td>5.8707</td>\n",
       "      <td>7.20290</td>\n",
       "      <td>-2.310451</td>\n",
       "      <td>1.486191</td>\n",
       "      <td>5.338184</td>\n",
       "      <td>-3.433771</td>\n",
       "      <td>2.208763</td>\n",
       "    </tr>\n",
       "    <tr>\n",
       "      <td>92</td>\n",
       "      <td>5.3054</td>\n",
       "      <td>1.98690</td>\n",
       "      <td>-2.875751</td>\n",
       "      <td>-3.729809</td>\n",
       "      <td>8.269944</td>\n",
       "      <td>10.726003</td>\n",
       "      <td>13.911478</td>\n",
       "    </tr>\n",
       "    <tr>\n",
       "      <td>93</td>\n",
       "      <td>8.2934</td>\n",
       "      <td>0.14454</td>\n",
       "      <td>0.112249</td>\n",
       "      <td>-5.572169</td>\n",
       "      <td>0.012600</td>\n",
       "      <td>-0.625470</td>\n",
       "      <td>31.049072</td>\n",
       "    </tr>\n",
       "    <tr>\n",
       "      <td>94</td>\n",
       "      <td>13.3940</td>\n",
       "      <td>9.05510</td>\n",
       "      <td>5.212849</td>\n",
       "      <td>3.338391</td>\n",
       "      <td>27.173794</td>\n",
       "      <td>17.402526</td>\n",
       "      <td>11.144852</td>\n",
       "    </tr>\n",
       "    <tr>\n",
       "      <td>95</td>\n",
       "      <td>5.4369</td>\n",
       "      <td>0.61705</td>\n",
       "      <td>-2.744251</td>\n",
       "      <td>-5.099659</td>\n",
       "      <td>7.530914</td>\n",
       "      <td>13.994746</td>\n",
       "      <td>26.006526</td>\n",
       "    </tr>\n",
       "  </tbody>\n",
       "</table>\n",
       "<p>96 rows × 7 columns</p>\n",
       "</div>"
      ],
      "text/plain": [
       "     6.1101    17.592         x         y         A2         AB         B2\n",
       "0    5.5277   9.13020 -2.653451  3.413491   7.040802  -9.057530  11.651918\n",
       "1    8.5186  13.66200  0.337449  7.945291   0.113872   2.681130  63.127643\n",
       "2    7.0032  11.85400 -1.177951  6.137291   1.387569  -7.229428  37.666336\n",
       "3    5.8598   6.82330 -2.321351  1.106591   5.388671  -2.568785   1.224543\n",
       "4    8.3829  11.88600  0.201749  6.169291   0.040703   1.244648  38.060147\n",
       "..      ...       ...       ...       ...        ...        ...        ...\n",
       "91   5.8707   7.20290 -2.310451  1.486191   5.338184  -3.433771   2.208763\n",
       "92   5.3054   1.98690 -2.875751 -3.729809   8.269944  10.726003  13.911478\n",
       "93   8.2934   0.14454  0.112249 -5.572169   0.012600  -0.625470  31.049072\n",
       "94  13.3940   9.05510  5.212849  3.338391  27.173794  17.402526  11.144852\n",
       "95   5.4369   0.61705 -2.744251 -5.099659   7.530914  13.994746  26.006526\n",
       "\n",
       "[96 rows x 7 columns]"
      ]
     },
     "execution_count": 25,
     "metadata": {},
     "output_type": "execute_result"
    }
   ],
   "source": [
    "data[\"B2\"] = (data[\"y\"])**2\n",
    "data"
   ]
  },
  {
   "cell_type": "code",
   "execution_count": 26,
   "metadata": {},
   "outputs": [],
   "source": [
    "sum1 = data['AB'].sum()\n",
    "sum2 = data['A2'].sum()\n",
    "sum3 = data['B2'].sum()\n"
   ]
  },
  {
   "cell_type": "code",
   "execution_count": 27,
   "metadata": {},
   "outputs": [
    {
     "data": {
      "text/plain": [
       "(1739.5603117330627, 1433.450824539896, 2775.2783647179626)"
      ]
     },
     "execution_count": 27,
     "metadata": {},
     "output_type": "execute_result"
    }
   ],
   "source": [
    "sum1,sum2,sum3"
   ]
  },
  {
   "cell_type": "code",
   "execution_count": 28,
   "metadata": {},
   "outputs": [
    {
     "data": {
      "text/plain": [
       "0.8721572919685903"
      ]
     },
     "execution_count": 28,
     "metadata": {},
     "output_type": "execute_result"
    }
   ],
   "source": [
    "corr = (sum1)/(sum2*sum3)**0.5\n",
    "corr"
   ]
  },
  {
   "cell_type": "markdown",
   "metadata": {},
   "source": [
    "### m = corr * std_y/std_x"
   ]
  },
  {
   "cell_type": "code",
   "execution_count": 29,
   "metadata": {},
   "outputs": [
    {
     "data": {
      "text/plain": [
       "3.8641660707441887"
      ]
     },
     "execution_count": 29,
     "metadata": {},
     "output_type": "execute_result"
    }
   ],
   "source": [
    "#STD x and y\n",
    "sd_x = np.std(data['x'])\n",
    "sd_x"
   ]
  },
  {
   "cell_type": "code",
   "execution_count": 30,
   "metadata": {},
   "outputs": [
    {
     "data": {
      "text/plain": [
       "5.37672294548257"
      ]
     },
     "execution_count": 30,
     "metadata": {},
     "output_type": "execute_result"
    }
   ],
   "source": [
    "sd_y = np.std(data['y'])\n",
    "sd_y"
   ]
  },
  {
   "cell_type": "code",
   "execution_count": 31,
   "metadata": {},
   "outputs": [
    {
     "data": {
      "text/plain": [
       "1.213547253908358"
      ]
     },
     "execution_count": 31,
     "metadata": {},
     "output_type": "execute_result"
    }
   ],
   "source": [
    "m = corr * sd_y/sd_x\n",
    "m"
   ]
  },
  {
   "cell_type": "code",
   "execution_count": 32,
   "metadata": {},
   "outputs": [
    {
     "data": {
      "text/plain": [
       "-4.211504005424093"
      ]
     },
     "execution_count": 32,
     "metadata": {},
     "output_type": "execute_result"
    }
   ],
   "source": [
    "c = ymean - (m*xmean)               # <===\n",
    "c"
   ]
  },
  {
   "cell_type": "code",
   "execution_count": 33,
   "metadata": {},
   "outputs": [
    {
     "data": {
      "text/html": [
       "<div>\n",
       "<style scoped>\n",
       "    .dataframe tbody tr th:only-of-type {\n",
       "        vertical-align: middle;\n",
       "    }\n",
       "\n",
       "    .dataframe tbody tr th {\n",
       "        vertical-align: top;\n",
       "    }\n",
       "\n",
       "    .dataframe thead th {\n",
       "        text-align: right;\n",
       "    }\n",
       "</style>\n",
       "<table border=\"1\" class=\"dataframe\">\n",
       "  <thead>\n",
       "    <tr style=\"text-align: right;\">\n",
       "      <th></th>\n",
       "      <th>6.1101</th>\n",
       "      <th>17.592</th>\n",
       "      <th>x</th>\n",
       "      <th>y</th>\n",
       "      <th>A2</th>\n",
       "      <th>AB</th>\n",
       "      <th>B2</th>\n",
       "      <th>ypred</th>\n",
       "    </tr>\n",
       "  </thead>\n",
       "  <tbody>\n",
       "    <tr>\n",
       "      <td>0</td>\n",
       "      <td>5.5277</td>\n",
       "      <td>9.13020</td>\n",
       "      <td>-2.653451</td>\n",
       "      <td>3.413491</td>\n",
       "      <td>7.040802</td>\n",
       "      <td>-9.057530</td>\n",
       "      <td>11.651918</td>\n",
       "      <td>2.496621</td>\n",
       "    </tr>\n",
       "    <tr>\n",
       "      <td>1</td>\n",
       "      <td>8.5186</td>\n",
       "      <td>13.66200</td>\n",
       "      <td>0.337449</td>\n",
       "      <td>7.945291</td>\n",
       "      <td>0.113872</td>\n",
       "      <td>2.681130</td>\n",
       "      <td>63.127643</td>\n",
       "      <td>6.126220</td>\n",
       "    </tr>\n",
       "    <tr>\n",
       "      <td>2</td>\n",
       "      <td>7.0032</td>\n",
       "      <td>11.85400</td>\n",
       "      <td>-1.177951</td>\n",
       "      <td>6.137291</td>\n",
       "      <td>1.387569</td>\n",
       "      <td>-7.229428</td>\n",
       "      <td>37.666336</td>\n",
       "      <td>4.287210</td>\n",
       "    </tr>\n",
       "    <tr>\n",
       "      <td>3</td>\n",
       "      <td>5.8598</td>\n",
       "      <td>6.82330</td>\n",
       "      <td>-2.321351</td>\n",
       "      <td>1.106591</td>\n",
       "      <td>5.388671</td>\n",
       "      <td>-2.568785</td>\n",
       "      <td>1.224543</td>\n",
       "      <td>2.899640</td>\n",
       "    </tr>\n",
       "    <tr>\n",
       "      <td>4</td>\n",
       "      <td>8.3829</td>\n",
       "      <td>11.88600</td>\n",
       "      <td>0.201749</td>\n",
       "      <td>6.169291</td>\n",
       "      <td>0.040703</td>\n",
       "      <td>1.244648</td>\n",
       "      <td>38.060147</td>\n",
       "      <td>5.961541</td>\n",
       "    </tr>\n",
       "    <tr>\n",
       "      <td>...</td>\n",
       "      <td>...</td>\n",
       "      <td>...</td>\n",
       "      <td>...</td>\n",
       "      <td>...</td>\n",
       "      <td>...</td>\n",
       "      <td>...</td>\n",
       "      <td>...</td>\n",
       "      <td>...</td>\n",
       "    </tr>\n",
       "    <tr>\n",
       "      <td>91</td>\n",
       "      <td>5.8707</td>\n",
       "      <td>7.20290</td>\n",
       "      <td>-2.310451</td>\n",
       "      <td>1.486191</td>\n",
       "      <td>5.338184</td>\n",
       "      <td>-3.433771</td>\n",
       "      <td>2.208763</td>\n",
       "      <td>2.912868</td>\n",
       "    </tr>\n",
       "    <tr>\n",
       "      <td>92</td>\n",
       "      <td>5.3054</td>\n",
       "      <td>1.98690</td>\n",
       "      <td>-2.875751</td>\n",
       "      <td>-3.729809</td>\n",
       "      <td>8.269944</td>\n",
       "      <td>10.726003</td>\n",
       "      <td>13.911478</td>\n",
       "      <td>2.226850</td>\n",
       "    </tr>\n",
       "    <tr>\n",
       "      <td>93</td>\n",
       "      <td>8.2934</td>\n",
       "      <td>0.14454</td>\n",
       "      <td>0.112249</td>\n",
       "      <td>-5.572169</td>\n",
       "      <td>0.012600</td>\n",
       "      <td>-0.625470</td>\n",
       "      <td>31.049072</td>\n",
       "      <td>5.852929</td>\n",
       "    </tr>\n",
       "    <tr>\n",
       "      <td>94</td>\n",
       "      <td>13.3940</td>\n",
       "      <td>9.05510</td>\n",
       "      <td>5.212849</td>\n",
       "      <td>3.338391</td>\n",
       "      <td>27.173794</td>\n",
       "      <td>17.402526</td>\n",
       "      <td>11.144852</td>\n",
       "      <td>12.042748</td>\n",
       "    </tr>\n",
       "    <tr>\n",
       "      <td>95</td>\n",
       "      <td>5.4369</td>\n",
       "      <td>0.61705</td>\n",
       "      <td>-2.744251</td>\n",
       "      <td>-5.099659</td>\n",
       "      <td>7.530914</td>\n",
       "      <td>13.994746</td>\n",
       "      <td>26.006526</td>\n",
       "      <td>2.386431</td>\n",
       "    </tr>\n",
       "  </tbody>\n",
       "</table>\n",
       "<p>96 rows × 8 columns</p>\n",
       "</div>"
      ],
      "text/plain": [
       "     6.1101    17.592         x         y         A2         AB         B2  \\\n",
       "0    5.5277   9.13020 -2.653451  3.413491   7.040802  -9.057530  11.651918   \n",
       "1    8.5186  13.66200  0.337449  7.945291   0.113872   2.681130  63.127643   \n",
       "2    7.0032  11.85400 -1.177951  6.137291   1.387569  -7.229428  37.666336   \n",
       "3    5.8598   6.82330 -2.321351  1.106591   5.388671  -2.568785   1.224543   \n",
       "4    8.3829  11.88600  0.201749  6.169291   0.040703   1.244648  38.060147   \n",
       "..      ...       ...       ...       ...        ...        ...        ...   \n",
       "91   5.8707   7.20290 -2.310451  1.486191   5.338184  -3.433771   2.208763   \n",
       "92   5.3054   1.98690 -2.875751 -3.729809   8.269944  10.726003  13.911478   \n",
       "93   8.2934   0.14454  0.112249 -5.572169   0.012600  -0.625470  31.049072   \n",
       "94  13.3940   9.05510  5.212849  3.338391  27.173794  17.402526  11.144852   \n",
       "95   5.4369   0.61705 -2.744251 -5.099659   7.530914  13.994746  26.006526   \n",
       "\n",
       "        ypred  \n",
       "0    2.496621  \n",
       "1    6.126220  \n",
       "2    4.287210  \n",
       "3    2.899640  \n",
       "4    5.961541  \n",
       "..        ...  \n",
       "91   2.912868  \n",
       "92   2.226850  \n",
       "93   5.852929  \n",
       "94  12.042748  \n",
       "95   2.386431  \n",
       "\n",
       "[96 rows x 8 columns]"
      ]
     },
     "execution_count": 33,
     "metadata": {},
     "output_type": "execute_result"
    }
   ],
   "source": [
    "data['ypred'] = (m*data['6.1101'])+c        #  <==\n",
    "data"
   ]
  },
  {
   "cell_type": "markdown",
   "metadata": {},
   "source": [
    "## Now you can plot by these commands:\n",
    "```\n",
    "plot1 = plt.scatter(data['6.1101'],data['17.592'])\n",
    "plot2 = plt.plot(data['6.1101'],data['ypred'])\n",
    "plt.show()```"
   ]
  },
  {
   "cell_type": "code",
   "execution_count": 34,
   "metadata": {
    "scrolled": true
   },
   "outputs": [
    {
     "data": {
      "image/png": "[encoded data removed]",
      "text/plain": [
       "<Figure size 432x288 with 1 Axes>"
      ]
     },
     "metadata": {
      "needs_background": "light"
     },
     "output_type": "display_data"
    }
   ],
   "source": [
    "plot1 = plt.scatter(data['6.1101'],data['17.592'])\n",
    "plot2 = plt.plot(data['6.1101'],data['ypred'])\n",
    "plt.show()"
   ]
  },
  {
   "cell_type": "markdown",
   "metadata": {},
   "source": [
    "**errors mse, sse r^2 etc:**\n"
   ]
  },
  {
   "cell_type": "code",
   "execution_count": 35,
   "metadata": {},
   "outputs": [
    {
     "data": {
      "text/html": [
       "<div>\n",
       "<style scoped>\n",
       "    .dataframe tbody tr th:only-of-type {\n",
       "        vertical-align: middle;\n",
       "    }\n",
       "\n",
       "    .dataframe tbody tr th {\n",
       "        vertical-align: top;\n",
       "    }\n",
       "\n",
       "    .dataframe thead th {\n",
       "        text-align: right;\n",
       "    }\n",
       "</style>\n",
       "<table border=\"1\" class=\"dataframe\">\n",
       "  <thead>\n",
       "    <tr style=\"text-align: right;\">\n",
       "      <th></th>\n",
       "      <th>6.1101</th>\n",
       "      <th>17.592</th>\n",
       "      <th>x</th>\n",
       "      <th>y</th>\n",
       "      <th>A2</th>\n",
       "      <th>AB</th>\n",
       "      <th>B2</th>\n",
       "      <th>ypred</th>\n",
       "      <th>(ypred-y)^2</th>\n",
       "    </tr>\n",
       "  </thead>\n",
       "  <tbody>\n",
       "    <tr>\n",
       "      <td>0</td>\n",
       "      <td>5.5277</td>\n",
       "      <td>9.13020</td>\n",
       "      <td>-2.653451</td>\n",
       "      <td>3.413491</td>\n",
       "      <td>7.040802</td>\n",
       "      <td>-9.057530</td>\n",
       "      <td>11.651918</td>\n",
       "      <td>2.496621</td>\n",
       "      <td>44.004368</td>\n",
       "    </tr>\n",
       "    <tr>\n",
       "      <td>1</td>\n",
       "      <td>8.5186</td>\n",
       "      <td>13.66200</td>\n",
       "      <td>0.337449</td>\n",
       "      <td>7.945291</td>\n",
       "      <td>0.113872</td>\n",
       "      <td>2.681130</td>\n",
       "      <td>63.127643</td>\n",
       "      <td>6.126220</td>\n",
       "      <td>56.787986</td>\n",
       "    </tr>\n",
       "    <tr>\n",
       "      <td>2</td>\n",
       "      <td>7.0032</td>\n",
       "      <td>11.85400</td>\n",
       "      <td>-1.177951</td>\n",
       "      <td>6.137291</td>\n",
       "      <td>1.387569</td>\n",
       "      <td>-7.229428</td>\n",
       "      <td>37.666336</td>\n",
       "      <td>4.287210</td>\n",
       "      <td>57.256309</td>\n",
       "    </tr>\n",
       "    <tr>\n",
       "      <td>3</td>\n",
       "      <td>5.8598</td>\n",
       "      <td>6.82330</td>\n",
       "      <td>-2.321351</td>\n",
       "      <td>1.106591</td>\n",
       "      <td>5.388671</td>\n",
       "      <td>-2.568785</td>\n",
       "      <td>1.224543</td>\n",
       "      <td>2.899640</td>\n",
       "      <td>15.395106</td>\n",
       "    </tr>\n",
       "    <tr>\n",
       "      <td>4</td>\n",
       "      <td>8.3829</td>\n",
       "      <td>11.88600</td>\n",
       "      <td>0.201749</td>\n",
       "      <td>6.169291</td>\n",
       "      <td>0.040703</td>\n",
       "      <td>1.244648</td>\n",
       "      <td>38.060147</td>\n",
       "      <td>5.961541</td>\n",
       "      <td>35.099211</td>\n",
       "    </tr>\n",
       "    <tr>\n",
       "      <td>...</td>\n",
       "      <td>...</td>\n",
       "      <td>...</td>\n",
       "      <td>...</td>\n",
       "      <td>...</td>\n",
       "      <td>...</td>\n",
       "      <td>...</td>\n",
       "      <td>...</td>\n",
       "      <td>...</td>\n",
       "      <td>...</td>\n",
       "    </tr>\n",
       "    <tr>\n",
       "      <td>91</td>\n",
       "      <td>5.8707</td>\n",
       "      <td>7.20290</td>\n",
       "      <td>-2.310451</td>\n",
       "      <td>1.486191</td>\n",
       "      <td>5.338184</td>\n",
       "      <td>-3.433771</td>\n",
       "      <td>2.208763</td>\n",
       "      <td>2.912868</td>\n",
       "      <td>18.404376</td>\n",
       "    </tr>\n",
       "    <tr>\n",
       "      <td>92</td>\n",
       "      <td>5.3054</td>\n",
       "      <td>1.98690</td>\n",
       "      <td>-2.875751</td>\n",
       "      <td>-3.729809</td>\n",
       "      <td>8.269944</td>\n",
       "      <td>10.726003</td>\n",
       "      <td>13.911478</td>\n",
       "      <td>2.226850</td>\n",
       "      <td>0.057576</td>\n",
       "    </tr>\n",
       "    <tr>\n",
       "      <td>93</td>\n",
       "      <td>8.2934</td>\n",
       "      <td>0.14454</td>\n",
       "      <td>0.112249</td>\n",
       "      <td>-5.572169</td>\n",
       "      <td>0.012600</td>\n",
       "      <td>-0.625470</td>\n",
       "      <td>31.049072</td>\n",
       "      <td>5.852929</td>\n",
       "      <td>32.585703</td>\n",
       "    </tr>\n",
       "    <tr>\n",
       "      <td>94</td>\n",
       "      <td>13.3940</td>\n",
       "      <td>9.05510</td>\n",
       "      <td>5.212849</td>\n",
       "      <td>3.338391</td>\n",
       "      <td>27.173794</td>\n",
       "      <td>17.402526</td>\n",
       "      <td>11.144852</td>\n",
       "      <td>12.042748</td>\n",
       "      <td>8.926040</td>\n",
       "    </tr>\n",
       "    <tr>\n",
       "      <td>95</td>\n",
       "      <td>5.4369</td>\n",
       "      <td>0.61705</td>\n",
       "      <td>-2.744251</td>\n",
       "      <td>-5.099659</td>\n",
       "      <td>7.530914</td>\n",
       "      <td>13.994746</td>\n",
       "      <td>26.006526</td>\n",
       "      <td>2.386431</td>\n",
       "      <td>3.130709</td>\n",
       "    </tr>\n",
       "  </tbody>\n",
       "</table>\n",
       "<p>96 rows × 9 columns</p>\n",
       "</div>"
      ],
      "text/plain": [
       "     6.1101    17.592         x         y         A2         AB         B2  \\\n",
       "0    5.5277   9.13020 -2.653451  3.413491   7.040802  -9.057530  11.651918   \n",
       "1    8.5186  13.66200  0.337449  7.945291   0.113872   2.681130  63.127643   \n",
       "2    7.0032  11.85400 -1.177951  6.137291   1.387569  -7.229428  37.666336   \n",
       "3    5.8598   6.82330 -2.321351  1.106591   5.388671  -2.568785   1.224543   \n",
       "4    8.3829  11.88600  0.201749  6.169291   0.040703   1.244648  38.060147   \n",
       "..      ...       ...       ...       ...        ...        ...        ...   \n",
       "91   5.8707   7.20290 -2.310451  1.486191   5.338184  -3.433771   2.208763   \n",
       "92   5.3054   1.98690 -2.875751 -3.729809   8.269944  10.726003  13.911478   \n",
       "93   8.2934   0.14454  0.112249 -5.572169   0.012600  -0.625470  31.049072   \n",
       "94  13.3940   9.05510  5.212849  3.338391  27.173794  17.402526  11.144852   \n",
       "95   5.4369   0.61705 -2.744251 -5.099659   7.530914  13.994746  26.006526   \n",
       "\n",
       "        ypred  (ypred-y)^2  \n",
       "0    2.496621    44.004368  \n",
       "1    6.126220    56.787986  \n",
       "2    4.287210    57.256309  \n",
       "3    2.899640    15.395106  \n",
       "4    5.961541    35.099211  \n",
       "..        ...          ...  \n",
       "91   2.912868    18.404376  \n",
       "92   2.226850     0.057576  \n",
       "93   5.852929    32.585703  \n",
       "94  12.042748     8.926040  \n",
       "95   2.386431     3.130709  \n",
       "\n",
       "[96 rows x 9 columns]"
      ]
     },
     "execution_count": 35,
     "metadata": {},
     "output_type": "execute_result"
    }
   ],
   "source": [
    "data['(ypred-y)^2']=(data['ypred']-data['17.592'])**2\n",
    "data"
   ]
  },
  {
   "cell_type": "code",
   "execution_count": 36,
   "metadata": {},
   "outputs": [
    {
     "data": {
      "text/plain": [
       "664.2397254063368"
      ]
     },
     "execution_count": 36,
     "metadata": {},
     "output_type": "execute_result"
    }
   ],
   "source": [
    "sse = data['(ypred-y)^2'].sum()\n",
    "sse"
   ]
  },
  {
   "cell_type": "code",
   "execution_count": 37,
   "metadata": {},
   "outputs": [
    {
     "data": {
      "text/plain": [
       "96"
      ]
     },
     "execution_count": 37,
     "metadata": {},
     "output_type": "execute_result"
    }
   ],
   "source": [
    "len(data)"
   ]
  },
  {
   "cell_type": "code",
   "execution_count": 38,
   "metadata": {},
   "outputs": [],
   "source": [
    "mse = sse/len(data)"
   ]
  },
  {
   "cell_type": "code",
   "execution_count": 39,
   "metadata": {},
   "outputs": [
    {
     "data": {
      "text/plain": [
       "6.919163806316008"
      ]
     },
     "execution_count": 39,
     "metadata": {},
     "output_type": "execute_result"
    }
   ],
   "source": [
    "mse"
   ]
  },
  {
   "cell_type": "code",
   "execution_count": 40,
   "metadata": {},
   "outputs": [
    {
     "name": "stdout",
     "output_type": "stream",
     "text": [
      "          6.1101    17.592\n",
      "6.1101  1.000000  0.872157\n",
      "17.592  0.872157  1.000000\n"
     ]
    }
   ],
   "source": [
    "print(data2.corr())"
   ]
  },
  {
   "cell_type": "code",
   "execution_count": 41,
   "metadata": {},
   "outputs": [
    {
     "data": {
      "text/plain": [
       "5.716709374999993"
      ]
     },
     "execution_count": 41,
     "metadata": {},
     "output_type": "execute_result"
    }
   ],
   "source": [
    "ypredmean = data['ypred'].mean()\n",
    "ypredmean"
   ]
  },
  {
   "cell_type": "code",
   "execution_count": 42,
   "metadata": {},
   "outputs": [
    {
     "data": {
      "text/html": [
       "<div>\n",
       "<style scoped>\n",
       "    .dataframe tbody tr th:only-of-type {\n",
       "        vertical-align: middle;\n",
       "    }\n",
       "\n",
       "    .dataframe tbody tr th {\n",
       "        vertical-align: top;\n",
       "    }\n",
       "\n",
       "    .dataframe thead th {\n",
       "        text-align: right;\n",
       "    }\n",
       "</style>\n",
       "<table border=\"1\" class=\"dataframe\">\n",
       "  <thead>\n",
       "    <tr style=\"text-align: right;\">\n",
       "      <th></th>\n",
       "      <th>6.1101</th>\n",
       "      <th>17.592</th>\n",
       "      <th>x</th>\n",
       "      <th>y</th>\n",
       "      <th>A2</th>\n",
       "      <th>AB</th>\n",
       "      <th>B2</th>\n",
       "      <th>ypred</th>\n",
       "      <th>(ypred-y)^2</th>\n",
       "      <th>ypred-ypredmean</th>\n",
       "    </tr>\n",
       "  </thead>\n",
       "  <tbody>\n",
       "    <tr>\n",
       "      <td>0</td>\n",
       "      <td>5.5277</td>\n",
       "      <td>9.13020</td>\n",
       "      <td>-2.653451</td>\n",
       "      <td>3.413491</td>\n",
       "      <td>7.040802</td>\n",
       "      <td>-9.057530</td>\n",
       "      <td>11.651918</td>\n",
       "      <td>2.496621</td>\n",
       "      <td>44.004368</td>\n",
       "      <td>10.368968</td>\n",
       "    </tr>\n",
       "    <tr>\n",
       "      <td>1</td>\n",
       "      <td>8.5186</td>\n",
       "      <td>13.66200</td>\n",
       "      <td>0.337449</td>\n",
       "      <td>7.945291</td>\n",
       "      <td>0.113872</td>\n",
       "      <td>2.681130</td>\n",
       "      <td>63.127643</td>\n",
       "      <td>6.126220</td>\n",
       "      <td>56.787986</td>\n",
       "      <td>0.167699</td>\n",
       "    </tr>\n",
       "    <tr>\n",
       "      <td>2</td>\n",
       "      <td>7.0032</td>\n",
       "      <td>11.85400</td>\n",
       "      <td>-1.177951</td>\n",
       "      <td>6.137291</td>\n",
       "      <td>1.387569</td>\n",
       "      <td>-7.229428</td>\n",
       "      <td>37.666336</td>\n",
       "      <td>4.287210</td>\n",
       "      <td>57.256309</td>\n",
       "      <td>2.043468</td>\n",
       "    </tr>\n",
       "    <tr>\n",
       "      <td>3</td>\n",
       "      <td>5.8598</td>\n",
       "      <td>6.82330</td>\n",
       "      <td>-2.321351</td>\n",
       "      <td>1.106591</td>\n",
       "      <td>5.388671</td>\n",
       "      <td>-2.568785</td>\n",
       "      <td>1.224543</td>\n",
       "      <td>2.899640</td>\n",
       "      <td>15.395106</td>\n",
       "      <td>7.935879</td>\n",
       "    </tr>\n",
       "    <tr>\n",
       "      <td>4</td>\n",
       "      <td>8.3829</td>\n",
       "      <td>11.88600</td>\n",
       "      <td>0.201749</td>\n",
       "      <td>6.169291</td>\n",
       "      <td>0.040703</td>\n",
       "      <td>1.244648</td>\n",
       "      <td>38.060147</td>\n",
       "      <td>5.961541</td>\n",
       "      <td>35.099211</td>\n",
       "      <td>0.059943</td>\n",
       "    </tr>\n",
       "    <tr>\n",
       "      <td>...</td>\n",
       "      <td>...</td>\n",
       "      <td>...</td>\n",
       "      <td>...</td>\n",
       "      <td>...</td>\n",
       "      <td>...</td>\n",
       "      <td>...</td>\n",
       "      <td>...</td>\n",
       "      <td>...</td>\n",
       "      <td>...</td>\n",
       "      <td>...</td>\n",
       "    </tr>\n",
       "    <tr>\n",
       "      <td>91</td>\n",
       "      <td>5.8707</td>\n",
       "      <td>7.20290</td>\n",
       "      <td>-2.310451</td>\n",
       "      <td>1.486191</td>\n",
       "      <td>5.338184</td>\n",
       "      <td>-3.433771</td>\n",
       "      <td>2.208763</td>\n",
       "      <td>2.912868</td>\n",
       "      <td>18.404376</td>\n",
       "      <td>7.861527</td>\n",
       "    </tr>\n",
       "    <tr>\n",
       "      <td>92</td>\n",
       "      <td>5.3054</td>\n",
       "      <td>1.98690</td>\n",
       "      <td>-2.875751</td>\n",
       "      <td>-3.729809</td>\n",
       "      <td>8.269944</td>\n",
       "      <td>10.726003</td>\n",
       "      <td>13.911478</td>\n",
       "      <td>2.226850</td>\n",
       "      <td>0.057576</td>\n",
       "      <td>12.179121</td>\n",
       "    </tr>\n",
       "    <tr>\n",
       "      <td>93</td>\n",
       "      <td>8.2934</td>\n",
       "      <td>0.14454</td>\n",
       "      <td>0.112249</td>\n",
       "      <td>-5.572169</td>\n",
       "      <td>0.012600</td>\n",
       "      <td>-0.625470</td>\n",
       "      <td>31.049072</td>\n",
       "      <td>5.852929</td>\n",
       "      <td>32.585703</td>\n",
       "      <td>0.018556</td>\n",
       "    </tr>\n",
       "    <tr>\n",
       "      <td>94</td>\n",
       "      <td>13.3940</td>\n",
       "      <td>9.05510</td>\n",
       "      <td>5.212849</td>\n",
       "      <td>3.338391</td>\n",
       "      <td>27.173794</td>\n",
       "      <td>17.402526</td>\n",
       "      <td>11.144852</td>\n",
       "      <td>12.042748</td>\n",
       "      <td>8.926040</td>\n",
       "      <td>40.018764</td>\n",
       "    </tr>\n",
       "    <tr>\n",
       "      <td>95</td>\n",
       "      <td>5.4369</td>\n",
       "      <td>0.61705</td>\n",
       "      <td>-2.744251</td>\n",
       "      <td>-5.099659</td>\n",
       "      <td>7.530914</td>\n",
       "      <td>13.994746</td>\n",
       "      <td>26.006526</td>\n",
       "      <td>2.386431</td>\n",
       "      <td>3.130709</td>\n",
       "      <td>11.090754</td>\n",
       "    </tr>\n",
       "  </tbody>\n",
       "</table>\n",
       "<p>96 rows × 10 columns</p>\n",
       "</div>"
      ],
      "text/plain": [
       "     6.1101    17.592         x         y         A2         AB         B2  \\\n",
       "0    5.5277   9.13020 -2.653451  3.413491   7.040802  -9.057530  11.651918   \n",
       "1    8.5186  13.66200  0.337449  7.945291   0.113872   2.681130  63.127643   \n",
       "2    7.0032  11.85400 -1.177951  6.137291   1.387569  -7.229428  37.666336   \n",
       "3    5.8598   6.82330 -2.321351  1.106591   5.388671  -2.568785   1.224543   \n",
       "4    8.3829  11.88600  0.201749  6.169291   0.040703   1.244648  38.060147   \n",
       "..      ...       ...       ...       ...        ...        ...        ...   \n",
       "91   5.8707   7.20290 -2.310451  1.486191   5.338184  -3.433771   2.208763   \n",
       "92   5.3054   1.98690 -2.875751 -3.729809   8.269944  10.726003  13.911478   \n",
       "93   8.2934   0.14454  0.112249 -5.572169   0.012600  -0.625470  31.049072   \n",
       "94  13.3940   9.05510  5.212849  3.338391  27.173794  17.402526  11.144852   \n",
       "95   5.4369   0.61705 -2.744251 -5.099659   7.530914  13.994746  26.006526   \n",
       "\n",
       "        ypred  (ypred-y)^2  ypred-ypredmean  \n",
       "0    2.496621    44.004368        10.368968  \n",
       "1    6.126220    56.787986         0.167699  \n",
       "2    4.287210    57.256309         2.043468  \n",
       "3    2.899640    15.395106         7.935879  \n",
       "4    5.961541    35.099211         0.059943  \n",
       "..        ...          ...              ...  \n",
       "91   2.912868    18.404376         7.861527  \n",
       "92   2.226850     0.057576        12.179121  \n",
       "93   5.852929    32.585703         0.018556  \n",
       "94  12.042748     8.926040        40.018764  \n",
       "95   2.386431     3.130709        11.090754  \n",
       "\n",
       "[96 rows x 10 columns]"
      ]
     },
     "execution_count": 42,
     "metadata": {},
     "output_type": "execute_result"
    }
   ],
   "source": [
    "data['ypred-ypredmean'] = (data['ypred']-ypredmean)**2\n",
    "data"
   ]
  },
  {
   "cell_type": "code",
   "execution_count": 44,
   "metadata": {},
   "outputs": [
    {
     "data": {
      "text/plain": [
       "2111.038639311625"
      ]
     },
     "execution_count": 44,
     "metadata": {},
     "output_type": "execute_result"
    }
   ],
   "source": [
    "ssr = data['ypred-ypredmean'].sum()\n",
    "ssr"
   ]
  },
  {
   "cell_type": "code",
   "execution_count": 45,
   "metadata": {},
   "outputs": [],
   "source": [
    "sst = data['B2'].sum()"
   ]
  },
  {
   "cell_type": "code",
   "execution_count": 46,
   "metadata": {},
   "outputs": [
    {
     "data": {
      "text/plain": [
       "2775.2783647179626"
      ]
     },
     "execution_count": 46,
     "metadata": {},
     "output_type": "execute_result"
    }
   ],
   "source": [
    "sst"
   ]
  },
  {
   "cell_type": "code",
   "execution_count": 33,
   "metadata": {},
   "outputs": [
    {
     "data": {
      "text/plain": [
       "0.7606583419339846"
      ]
     },
     "execution_count": 33,
     "metadata": {},
     "output_type": "execute_result"
    }
   ],
   "source": [
    "rsq = 1-(sse/sst)\n",
    "rsq"
   ]
  },
  {
   "cell_type": "markdown",
   "metadata": {},
   "source": [
    "\n",
    "## mean,med..."
   ]
  },
  {
   "cell_type": "code",
   "execution_count": 35,
   "metadata": {},
   "outputs": [],
   "source": [
    "aarr = [5.0, 1.0,2.0,3.0]"
   ]
  },
  {
   "cell_type": "code",
   "execution_count": 36,
   "metadata": {},
   "outputs": [],
   "source": [
    "mean=sum(aarr)/len(aarr)"
   ]
  },
  {
   "cell_type": "code",
   "execution_count": 37,
   "metadata": {},
   "outputs": [
    {
     "data": {
      "text/plain": [
       "2.75"
      ]
     },
     "execution_count": 37,
     "metadata": {},
     "output_type": "execute_result"
    }
   ],
   "source": [
    "mean"
   ]
  },
  {
   "cell_type": "code",
   "execution_count": 38,
   "metadata": {},
   "outputs": [
    {
     "data": {
      "text/plain": [
       "[1.0, 2.0, 3.0, 5.0]"
      ]
     },
     "execution_count": 38,
     "metadata": {},
     "output_type": "execute_result"
    }
   ],
   "source": [
    "aarr.sort()\n",
    "aarr"
   ]
  },
  {
   "cell_type": "code",
   "execution_count": 39,
   "metadata": {},
   "outputs": [
    {
     "data": {
      "text/plain": [
       "4.0"
      ]
     },
     "execution_count": 39,
     "metadata": {},
     "output_type": "execute_result"
    }
   ],
   "source": [
    "mid = len(aarr) // 2 # since index not decimal\n",
    "median= (aarr[mid]+aarr[mid+1]) / 2\n",
    "median"
   ]
  }
 ],
 "metadata": {
  "kernelspec": {
   "display_name": "Python 3",
   "language": "python",
   "name": "python3"
  },
  "language_info": {
   "codemirror_mode": {
    "name": "ipython",
    "version": 3
   },
   "file_extension": ".py",
   "mimetype": "text/x-python",
   "name": "python",
   "nbconvert_exporter": "python",
   "pygments_lexer": "ipython3",
   "version": "3.7.4"
  }
 },
 "nbformat": 4,
 "nbformat_minor": 4
}
